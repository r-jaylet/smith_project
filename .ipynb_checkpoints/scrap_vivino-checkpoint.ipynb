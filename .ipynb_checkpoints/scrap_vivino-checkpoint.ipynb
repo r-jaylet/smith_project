{
 "cells": [
  {
   "cell_type": "code",
   "execution_count": 6,
   "id": "integral-american",
   "metadata": {},
   "outputs": [],
   "source": [
    "import requests\n",
    "import pandas as pd\n",
    "import json"
   ]
  },
  {
   "cell_type": "code",
   "execution_count": 123,
   "id": "advanced-roberts",
   "metadata": {},
   "outputs": [
    {
     "data": {
      "text/plain": [
       "25"
      ]
     },
     "execution_count": 123,
     "metadata": {},
     "output_type": "execute_result"
    }
   ],
   "source": [
    "len(r.json()[\"explore_vintage\"][\"matches\"])"
   ]
  },
  {
   "cell_type": "code",
   "execution_count": 7,
   "id": "turkish-brown",
   "metadata": {},
   "outputs": [],
   "source": [
    "num_pages = 81"
   ]
  },
  {
   "cell_type": "code",
   "execution_count": 145,
   "id": "forced-prairie",
   "metadata": {},
   "outputs": [],
   "source": [
    "def get_wine_date(num_pages):\n",
    "    \n",
    "    res = []\n",
    "    \n",
    "    for p in range(10):\n",
    "        for i in range(num_pages):\n",
    "            r = requests.get(\n",
    "                \"https://www.vivino.com/api/explore/explore\",\n",
    "                params={\n",
    "                    \"country_code\": \"FR\",\n",
    "                    \"currency_code\": \"EUR\",\n",
    "                    \"min_rating\": \"1\",\n",
    "                    \"order_by\": \"price\",\n",
    "                    \"order\": \"asc\",\n",
    "                    \"page\": i,\n",
    "                    \"price_range_max\": str(p+2),\n",
    "                    \"price_range_min\": str(p),\n",
    "                    \"wine_type_ids[]\": \"1\",\n",
    "                },\n",
    "                headers={\"User-Agent\": \"Mozilla/5.0 (Windows NT 10.0; Win64; x64; rv:66.0) Gecko/20100101 Firefox/66.0\"})\n",
    "            if r.json()[\"explore_vintage\"][\"matches\"] == []:\n",
    "                continue\n",
    "        res.append(r.json()[\"explore_vintage\"][\"matches\"])\n",
    "    return res\n"
   ]
  },
  {
   "cell_type": "code",
   "execution_count": null,
   "id": "continuing-omega",
   "metadata": {},
   "outputs": [],
   "source": [
    "vivino_pages = get_wine_date(num_pages)"
   ]
  },
  {
   "cell_type": "code",
   "execution_count": null,
   "id": "correct-vault",
   "metadata": {},
   "outputs": [],
   "source": [
    "def format_data(pages):\n",
    "    \n",
    "    results = []\n",
    "    for i in range(len(pages)):\n",
    "        for j in range(len(pages[i])):\n",
    "            t= pages[i][j]\n",
    "            p = (\n",
    "                t[\"vintage\"][\"wine\"][\"winery\"][\"name\"],\n",
    "                t[\"vintage\"][\"year\"],\n",
    "                t[\"vintage\"][\"wine\"][\"id\"],\n",
    "                t[\"vintage\"][\"year\"],\n",
    "                t[\"vintage\"][\"statistics\"][\"ratings_average\"],\n",
    "                t[\"vintage\"][\"statistics\"][\"ratings_count\"],\n",
    "                t[\"price\"][\"amount\"],\n",
    "                t[\"price\"]['bottle_type'][\"volume_ml\"],\n",
    "                t[\"vintage\"][\"image\"][\"location\"],\n",
    "                t[\"vintage\"]['wine']['region']['country']['name'],\n",
    "                t['price']['url']\n",
    "            )\n",
    "            print(p)\n",
    "            results.append(p)\n",
    "    return results"
   ]
  },
  {
   "cell_type": "code",
   "execution_count": null,
   "id": "racial-there",
   "metadata": {},
   "outputs": [],
   "source": [
    "dataframe = pd.DataFrame(results, columns=[\"Winery\", \"Year\", \"Wine ID\", \"Wine\", \"Rating\", \"num_review\", \"price\", \"volume_ml\", \"image_1\", \"country\", \"url\"])"
   ]
  },
  {
   "cell_type": "code",
   "execution_count": null,
   "id": "bound-integer",
   "metadata": {},
   "outputs": [],
   "source": [
    "dataframe = dataframe.drop_duplicates()"
   ]
  },
  {
   "cell_type": "code",
   "execution_count": null,
   "id": "religious-jenny",
   "metadata": {},
   "outputs": [],
   "source": [
    "dataframe"
   ]
  },
  {
   "cell_type": "code",
   "execution_count": null,
   "id": "interested-cleveland",
   "metadata": {},
   "outputs": [],
   "source": [
    "dataframe.to_csv('data_smith.csv')"
   ]
  },
  {
   "cell_type": "code",
   "execution_count": null,
   "id": "touched-consolidation",
   "metadata": {},
   "outputs": [],
   "source": []
  },
  {
   "cell_type": "code",
   "execution_count": null,
   "id": "discrete-today",
   "metadata": {},
   "outputs": [],
   "source": []
  }
 ],
 "metadata": {
  "kernelspec": {
   "display_name": "Python 3",
   "language": "python",
   "name": "python3"
  },
  "language_info": {
   "codemirror_mode": {
    "name": "ipython",
    "version": 3
   },
   "file_extension": ".py",
   "mimetype": "text/x-python",
   "name": "python",
   "nbconvert_exporter": "python",
   "pygments_lexer": "ipython3",
   "version": "3.7.3"
  }
 },
 "nbformat": 4,
 "nbformat_minor": 5
}
