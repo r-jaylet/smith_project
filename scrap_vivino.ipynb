{
 "cells": [
  {
   "cell_type": "code",
   "execution_count": 138,
   "id": "integral-american",
   "metadata": {},
   "outputs": [],
   "source": [
    "import requests\n",
    "import pandas as pd"
   ]
  },
  {
   "cell_type": "code",
   "execution_count": 139,
   "id": "forced-prairie",
   "metadata": {},
   "outputs": [],
   "source": [
    "def get_wine_date(num_pages):\n",
    "    \n",
    "    res = []\n",
    "\n",
    "    for i in range(num_pages):\n",
    "        r = requests.get(\n",
    "            \"https://www.vivino.com/api/explore/explore\",\n",
    "            params={\n",
    "                \"country_code\": \"FR\",\n",
    "                \"currency_code\": \"EUR\",\n",
    "                \"min_rating\": \"2\",\n",
    "                \"order_by\": \"price\",\n",
    "                \"order\": \"asc\",\n",
    "                \"page\": i,\n",
    "                \"price_range_max\": \"500\",\n",
    "                \"price_range_min\": \"1\",\n",
    "                \"wine_type_ids[]\": \"1\",\n",
    "            },\n",
    "            headers={\"User-Agent\": \"Mozilla/5.0 (Windows NT 10.0; Win64; x64; rv:66.0) Gecko/20100101 Firefox/66.0\"})\n",
    "        res.append(r.json()[\"explore_vintage\"][\"matches\"])\n",
    "    return res\n"
   ]
  },
  {
   "cell_type": "code",
   "execution_count": 140,
   "id": "continuing-omega",
   "metadata": {},
   "outputs": [],
   "source": [
    "tmp = get_wine_date(40)"
   ]
  },
  {
   "cell_type": "code",
   "execution_count": 147,
   "id": "correct-vault",
   "metadata": {},
   "outputs": [],
   "source": [
    "def format_data(tmp, num_pages):\n",
    "    results = [\n",
    "        (\n",
    "            t[\"vintage\"][\"wine\"][\"winery\"][\"name\"],\n",
    "            t[\"vintage\"][\"year\"],\n",
    "            t[\"vintage\"][\"wine\"][\"id\"],\n",
    "            f'{t[\"vintage\"][\"wine\"][\"name\"]} {t[\"vintage\"][\"year\"]}',\n",
    "            t[\"vintage\"][\"statistics\"][\"ratings_average\"],\n",
    "            t[\"vintage\"][\"statistics\"][\"ratings_count\"],\n",
    "            t[\"price\"][\"amount\"],\n",
    "            t[\"price\"]['bottle_type'][\"volume_ml\"],\n",
    "            t[\"vintage\"][\"image\"][\"location\"],\n",
    "            t[\"vintage\"]['wine']['region']['country']['name'],\n",
    "        )\n",
    "        for i in range(num_pages) for t in tmp[i]\n",
    "    ]\n",
    "    return results"
   ]
  },
  {
   "cell_type": "code",
   "execution_count": 148,
   "id": "skilled-vegetation",
   "metadata": {},
   "outputs": [],
   "source": [
    "results = format_data(tmp, 40)"
   ]
  },
  {
   "cell_type": "code",
   "execution_count": 149,
   "id": "racial-there",
   "metadata": {},
   "outputs": [],
   "source": [
    "dataframe = pd.DataFrame(results, columns=[\"Winery\", \"Year\", \"Wine ID\", \"Wine\", \"Rating\", \"num_review\", \"price\", \"volume_ml\", \"image\", \"country\"])"
   ]
  },
  {
   "cell_type": "code",
   "execution_count": 153,
   "id": "interested-cleveland",
   "metadata": {},
   "outputs": [],
   "source": [
    "dataframe.to_csv('data_smith.csv')"
   ]
  },
  {
   "cell_type": "code",
   "execution_count": null,
   "id": "touched-consolidation",
   "metadata": {},
   "outputs": [],
   "source": []
  },
  {
   "cell_type": "code",
   "execution_count": null,
   "id": "discrete-today",
   "metadata": {},
   "outputs": [],
   "source": []
  }
 ],
 "metadata": {
  "kernelspec": {
   "display_name": "Python 3",
   "language": "python",
   "name": "python3"
  },
  "language_info": {
   "codemirror_mode": {
    "name": "ipython",
    "version": 3
   },
   "file_extension": ".py",
   "mimetype": "text/x-python",
   "name": "python",
   "nbconvert_exporter": "python",
   "pygments_lexer": "ipython3",
   "version": "3.7.3"
  }
 },
 "nbformat": 4,
 "nbformat_minor": 5
}
